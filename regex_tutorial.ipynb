{
  "nbformat": 4,
  "nbformat_minor": 0,
  "metadata": {
    "colab": {
      "provenance": [],
      "authorship_tag": "ABX9TyMN0GX127t/1uFaHoH2c7QW",
      "include_colab_link": true
    },
    "kernelspec": {
      "name": "python3",
      "display_name": "Python 3"
    },
    "language_info": {
      "name": "python"
    }
  },
  "cells": [
    {
      "cell_type": "markdown",
      "metadata": {
        "id": "view-in-github",
        "colab_type": "text"
      },
      "source": [
        "<a href=\"https://colab.research.google.com/github/aadarsh73/Python/blob/main/regex_tutorial.ipynb\" target=\"_parent\"><img src=\"https://colab.research.google.com/assets/colab-badge.svg\" alt=\"Open In Colab\"/></a>"
      ]
    },
    {
      "cell_type": "code",
      "execution_count": 1,
      "metadata": {
        "id": "LJYklE6BibeL"
      },
      "outputs": [],
      "source": [
        "import re"
      ]
    },
    {
      "cell_type": "code",
      "source": [
        "text1 = 'this is my number : 1234567890 and email is ade131wfr@a.com'\n",
        "text2 = 'dwes_5f@gmail.com hi this (123)-123-1234 is my number'\n",
        "text3 = '1234532019 is my number order is 4235254353498'"
      ],
      "metadata": {
        "id": "WK8EW53-jPGc"
      },
      "execution_count": 2,
      "outputs": []
    },
    {
      "cell_type": "code",
      "source": [
        "text4 = '''\n",
        "  Born\tElon Reeve Musk\n",
        "June 28, 1971 (age 51)\n",
        "Pretoria, Transvaal, South Africa\n",
        "Education\tUniversity of Pennsylvania (BA, BS)\n",
        "Title\t\n",
        "Founder, CEO and chief engineer of SpaceX\n",
        "CEO and product architect of Tesla, Inc.\n",
        "CEO of Twitter, Inc.\n",
        "President of the Musk Foundation\n",
        "Founder of The Boring Company and X.com (now part of PayPal)\n",
        "Co-founder of Neuralink, OpenAI and Zip2\n",
        "Spouses\t\n",
        "Justine Wilson\n",
        "​\n",
        "​(m. 2000; div. 2008)​\n",
        "Talulah Riley\n",
        "​\n",
        "​(m. 2010; div. 2012)​\n",
        "​\n",
        "​(m. 2013; div. 2016)​\n",
        "Partner\tGrimes (2018–2021)[1]\n",
        "Children\t10[a][3]\n",
        "Parents\t\n",
        "Errol Musk\n",
        "Maye Musk\n",
        "Family\tMusk family\n",
        "Awards\tList of honors and awards\n",
        "Website\ttwitter.com/elonmusk\n",
        "'''"
      ],
      "metadata": {
        "id": "mfzPN6BlqmkC"
      },
      "execution_count": 3,
      "outputs": []
    },
    {
      "cell_type": "code",
      "source": [
        "phone_pattern = '\\d{10}|\\(\\d{3}\\)\\-\\d{3}\\-\\d{4}'\n",
        "email_pattern = '[a-z0-9A-Z_]*@[a-z0-9A-Z]*\\.[a-zA-Z]*'\n",
        "order_pattern = 'order[^\\d]*(\\d*)'\n",
        "age_pattern = 'age (\\d+)'\n",
        "name_pattern = '[Bb]orn(.*)'\n",
        "dob_pattern = '[Bb]orn.*\\n(.*)\\(age'\n",
        "birthplace_pattern = 'age \\d*\\)\\n(.*)'\n",
        "matches = re.findall(birthplace_pattern, text4)\n",
        "matches[0].strip()"
      ],
      "metadata": {
        "colab": {
          "base_uri": "https://localhost:8080/",
          "height": 35
        },
        "id": "r_ubn9fljln1",
        "outputId": "8434d3c4-e884-4a0b-c251-7fb56c82bda9"
      },
      "execution_count": 4,
      "outputs": [
        {
          "output_type": "execute_result",
          "data": {
            "text/plain": [
              "'Pretoria, Transvaal, South Africa'"
            ],
            "application/vnd.google.colaboratory.intrinsic+json": {
              "type": "string"
            }
          },
          "metadata": {},
          "execution_count": 4
        }
      ]
    },
    {
      "cell_type": "code",
      "source": [
        "def get_pattern_match(pattern,text):\n",
        "  matches = re.findall(pattern,text)\n",
        "  if matches:\n",
        "    return matches[0]"
      ],
      "metadata": {
        "id": "eUKw3l5fjuyc"
      },
      "execution_count": 5,
      "outputs": []
    },
    {
      "cell_type": "code",
      "source": [
        "get_pattern_match(birthplace_pattern,text4)"
      ],
      "metadata": {
        "colab": {
          "base_uri": "https://localhost:8080/",
          "height": 35
        },
        "id": "EmL8PSWKs7ce",
        "outputId": "ace075b6-e4d1-4700-850c-f8d47e77aedf"
      },
      "execution_count": 6,
      "outputs": [
        {
          "output_type": "execute_result",
          "data": {
            "text/plain": [
              "'Pretoria, Transvaal, South Africa'"
            ],
            "application/vnd.google.colaboratory.intrinsic+json": {
              "type": "string"
            }
          },
          "metadata": {},
          "execution_count": 6
        }
      ]
    },
    {
      "cell_type": "code",
      "source": [
        "def get_personal_information(text):\n",
        "  age = get_pattern_match(age_pattern,text)\n",
        "  full_name = get_pattern_match(name_pattern, text)\n",
        "  birth_date = get_pattern_match(dob_pattern, text)\n",
        "  birth_place = get_pattern_match(birthplace_pattern, text)\n",
        "\n",
        "  return {\n",
        "      'age': int(age),\n",
        "      'name': full_name.strip(),\n",
        "      'birth_date': birth_date.strip(),\n",
        "      'birth_place': birth_place.strip()\n",
        "  }"
      ],
      "metadata": {
        "id": "lL16j8o4s_VD"
      },
      "execution_count": 7,
      "outputs": []
    },
    {
      "cell_type": "code",
      "source": [
        "get_personal_information(text4)"
      ],
      "metadata": {
        "colab": {
          "base_uri": "https://localhost:8080/"
        },
        "id": "WldroX2it3f1",
        "outputId": "b98e3f41-b0ac-4465-9a3a-3224ad4c2301"
      },
      "execution_count": 8,
      "outputs": [
        {
          "output_type": "execute_result",
          "data": {
            "text/plain": [
              "{'age': 51,\n",
              " 'name': 'Elon Reeve Musk',\n",
              " 'birth_date': 'June 28, 1971',\n",
              " 'birth_place': 'Pretoria, Transvaal, South Africa'}"
            ]
          },
          "metadata": {},
          "execution_count": 8
        }
      ]
    }
  ]
}